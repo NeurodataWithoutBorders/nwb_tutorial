{
 "cells": [
  {
   "cell_type": "markdown",
   "metadata": {},
   "source": [
    "# NWB Tutorial - Extracellular Electrophysiology"
   ]
  },
  {
   "cell_type": "markdown",
   "metadata": {},
   "source": [
    "## Introduction\n",
    "In this tutorial, we will create an NWB file for a hypothetical extracellular electrophysiology experiment with a freely moving animal. The types of data we will convert are:\n",
    "- Subject information (species, strain, age, etc.) \n",
    "- Animal position\n",
    "- Trials\n",
    "- Raw electrophysiology data\n",
    "- LFP\n",
    "- Spike times"
   ]
  },
  {
   "cell_type": "markdown",
   "metadata": {},
   "source": [
    "## Installing PyNWB\n",
    "First, install PyNWB using pip or conda. You will need Python 3.7+ installed.\n",
    "- `pip install pynwb`\n",
    "- `conda install -c conda-forge pynwb`"
   ]
  },
  {
   "cell_type": "markdown",
   "metadata": {},
   "source": [
    "## Set up the NWB file\n",
    "An NWB file represents a single session of an experiment. Each file must have a session description, identifier, and session start time. Importantly, the session start time is the reference time for all timestamps in the file. For example, an event with a timestamp of 0 in the file means the event occurred exactly at the session start time. \n",
    "\n",
    "Create a new `NWBFile` object with those and additional metadata. For all constructors in PyNWB, we recommend using keyword arguments for clarity."
   ]
  },
  {
   "cell_type": "code",
   "execution_count": 1,
   "metadata": {},
   "outputs": [
    {
     "name": "stdout",
     "output_type": "stream",
     "text": [
      "root pynwb.file.NWBFile at 0x2952603804960\n",
      "Fields:\n",
      "  experimenter: ['My Name']\n",
      "  file_create_date: [datetime.datetime(2021, 8, 25, 10, 45, 34, 834957, tzinfo=tzlocal())]\n",
      "  identifier: Mouse5_Day3\n",
      "  institution: University of My Institution\n",
      "  lab: My Lab Name\n",
      "  related_publications: ['DOI:10.1016/j.neuron.2016.12.011']\n",
      "  session_description: Mouse exploring an open field\n",
      "  session_id: session_1234\n",
      "  session_start_time: 2021-08-25 10:30:00-07:00\n",
      "  timestamps_reference_time: 2021-08-25 10:30:00-07:00\n",
      "\n"
     ]
    }
   ],
   "source": [
    "from pynwb import NWBFile\n",
    "from datetime import datetime\n",
    "from dateutil import tz\n",
    "\n",
    "session_start_time = datetime(2021, 8, 25, 10, 30, 0, tzinfo=tz.gettz('US/Pacific'))\n",
    "\n",
    "nwbfile = NWBFile(\n",
    "    session_description='Mouse exploring an open field',\n",
    "    identifier='Mouse5_Day3',\n",
    "    session_start_time=session_start_time,\n",
    "    session_id='session_1234',                                # optional\n",
    "    experimenter='My Name',                                   # optional\n",
    "    lab='My Lab Name',                                        # optional\n",
    "    institution='University of My Institution',               # optional\n",
    "    related_publications='DOI:10.1016/j.neuron.2016.12.011'   # optional\n",
    ")\n",
    "print(nwbfile)"
   ]
  },
  {
   "cell_type": "markdown",
   "metadata": {},
   "source": [
    "## Subject information\n",
    "Create a `Subject` object to store information about the experimental subject, such as age, species, genotype, sex, and a description. Then set `nwbfile.subject` to the new `Subject` object.\n",
    "\n",
    "<img src=\"images/Subject.svg\" width=\"150\">\n",
    "\n",
    "Each of these fields is free-form text, so any values will be valid, but we recommend these values follow particular conventions to help software tools interpret the data:\n",
    "- For age, we recommend using the [ISO 8601 Duration format](https://en.wikipedia.org/wiki/ISO_8601#Durations), e.g., \"P90D\" for 90 days old\n",
    "- For species, we recommend using the formal latin binomal name, e.g., \"*Mus musculus*\", \"*Homo sapiens*\"\n",
    "- For sex, we recommend using \"F\" (female), \"M\" (male), \"U\" (unknown), and \"O\" (other)"
   ]
  },
  {
   "cell_type": "code",
   "execution_count": 2,
   "metadata": {},
   "outputs": [],
   "source": [
    "from pynwb.file import Subject\n",
    "\n",
    "nwbfile.subject = Subject(\n",
    "    subject_id='001',\n",
    "    age='P90D', \n",
    "    description='mouse 5',\n",
    "    species='Mus musculus', \n",
    "    sex='M'\n",
    ")"
   ]
  },
  {
   "cell_type": "markdown",
   "metadata": {},
   "source": [
    "## SpatialSeries and Position\n",
    "PyNWB contains classes that are specialized for different types of data. To store the spatial position of a subject, we will use the `SpatialSeries` and `Position` classes. \n",
    "\n",
    "`SpatialSeries` is a subclass of `TimeSeries`. `TimeSeries` is a common base class for measurements sampled over time, and provides fields for data and time (regularly or irregularly sampled).\n",
    "\n",
    "<img src=\"images/SpatialSeries.svg\" width=\"200\">\n",
    "\n",
    "Create a `SpatialSeries` object named `'SpatialSeries'` with some fake data."
   ]
  },
  {
   "cell_type": "code",
   "execution_count": 3,
   "metadata": {},
   "outputs": [],
   "source": [
    "import numpy as np\n",
    "from pynwb.behavior import SpatialSeries\n",
    "\n",
    "# create fake data with shape (50, 2)\n",
    "# the first dimension should always represent time, in seconds\n",
    "position_data = np.array([np.linspace(0, 10, 50),\n",
    "                          np.linspace(0, 8, 50)]).T\n",
    "position_timestamps = np.linspace(0, 50) / 200\n",
    "\n",
    "spatial_series_obj = SpatialSeries(\n",
    "    name='SpatialSeries', \n",
    "    description='(x,y) position in open field',\n",
    "    data=position_data,\n",
    "    timestamps=position_timestamps,\n",
    "    reference_frame='(0,0) is bottom left corner'\n",
    ")"
   ]
  },
  {
   "cell_type": "markdown",
   "metadata": {},
   "source": [
    "You can print the `SpatialSeries` object to view its contents."
   ]
  },
  {
   "cell_type": "code",
   "execution_count": 4,
   "metadata": {},
   "outputs": [
    {
     "name": "stdout",
     "output_type": "stream",
     "text": [
      "SpatialSeries pynwb.behavior.SpatialSeries at 0x2950981338016\n",
      "Fields:\n",
      "  comments: no comments\n",
      "  conversion: 1.0\n",
      "  data: [[ 0.          0.        ]\n",
      " [ 0.20408163  0.16326531]\n",
      " [ 0.40816327  0.32653061]\n",
      " [ 0.6122449   0.48979592]\n",
      " [ 0.81632653  0.65306122]\n",
      " [ 1.02040816  0.81632653]\n",
      " [ 1.2244898   0.97959184]\n",
      " [ 1.42857143  1.14285714]\n",
      " [ 1.63265306  1.30612245]\n",
      " [ 1.83673469  1.46938776]\n",
      " [ 2.04081633  1.63265306]\n",
      " [ 2.24489796  1.79591837]\n",
      " [ 2.44897959  1.95918367]\n",
      " [ 2.65306122  2.12244898]\n",
      " [ 2.85714286  2.28571429]\n",
      " [ 3.06122449  2.44897959]\n",
      " [ 3.26530612  2.6122449 ]\n",
      " [ 3.46938776  2.7755102 ]\n",
      " [ 3.67346939  2.93877551]\n",
      " [ 3.87755102  3.10204082]\n",
      " [ 4.08163265  3.26530612]\n",
      " [ 4.28571429  3.42857143]\n",
      " [ 4.48979592  3.59183673]\n",
      " [ 4.69387755  3.75510204]\n",
      " [ 4.89795918  3.91836735]\n",
      " [ 5.10204082  4.08163265]\n",
      " [ 5.30612245  4.24489796]\n",
      " [ 5.51020408  4.40816327]\n",
      " [ 5.71428571  4.57142857]\n",
      " [ 5.91836735  4.73469388]\n",
      " [ 6.12244898  4.89795918]\n",
      " [ 6.32653061  5.06122449]\n",
      " [ 6.53061224  5.2244898 ]\n",
      " [ 6.73469388  5.3877551 ]\n",
      " [ 6.93877551  5.55102041]\n",
      " [ 7.14285714  5.71428571]\n",
      " [ 7.34693878  5.87755102]\n",
      " [ 7.55102041  6.04081633]\n",
      " [ 7.75510204  6.20408163]\n",
      " [ 7.95918367  6.36734694]\n",
      " [ 8.16326531  6.53061224]\n",
      " [ 8.36734694  6.69387755]\n",
      " [ 8.57142857  6.85714286]\n",
      " [ 8.7755102   7.02040816]\n",
      " [ 8.97959184  7.18367347]\n",
      " [ 9.18367347  7.34693878]\n",
      " [ 9.3877551   7.51020408]\n",
      " [ 9.59183673  7.67346939]\n",
      " [ 9.79591837  7.83673469]\n",
      " [10.          8.        ]]\n",
      "  description: (x,y) position in open field\n",
      "  interval: 1\n",
      "  reference_frame: (0,0) is bottom left corner\n",
      "  resolution: -1.0\n",
      "  timestamps: [0.         0.00510204 0.01020408 0.01530612 0.02040816 0.0255102\n",
      " 0.03061224 0.03571429 0.04081633 0.04591837 0.05102041 0.05612245\n",
      " 0.06122449 0.06632653 0.07142857 0.07653061 0.08163265 0.08673469\n",
      " 0.09183673 0.09693878 0.10204082 0.10714286 0.1122449  0.11734694\n",
      " 0.12244898 0.12755102 0.13265306 0.1377551  0.14285714 0.14795918\n",
      " 0.15306122 0.15816327 0.16326531 0.16836735 0.17346939 0.17857143\n",
      " 0.18367347 0.18877551 0.19387755 0.19897959 0.20408163 0.20918367\n",
      " 0.21428571 0.21938776 0.2244898  0.22959184 0.23469388 0.23979592\n",
      " 0.24489796 0.25      ]\n",
      "  timestamps_unit: seconds\n",
      "  unit: meters\n",
      "\n"
     ]
    }
   ],
   "source": [
    "print(spatial_series_obj)"
   ]
  },
  {
   "cell_type": "markdown",
   "metadata": {},
   "source": [
    "To help data analysis and visualization tools know that this `SpatialSeries` object represents the position of the subject, store the `SpatialSeries` object inside of a `Position` object, which can hold one or more `SpatialSeries` objects.\n",
    "\n",
    "<img src=\"images/Position.svg\" width=\"450\">"
   ]
  },
  {
   "cell_type": "code",
   "execution_count": 5,
   "metadata": {},
   "outputs": [],
   "source": [
    "from pynwb.behavior import Position\n",
    "\n",
    "position_obj = Position(spatial_series=spatial_series_obj)  # name is set to 'Position' by default"
   ]
  },
  {
   "cell_type": "markdown",
   "metadata": {},
   "source": [
    "### Behavior Processing Module\n",
    "\n",
    "NWB differentiates between raw, *acquired data*, which should never change, and *processed data*, which are the results of preprocessing algorithms and could change. Let's assume that the subject's position was computed from a video tracking algorithm, so it would be classified as processed data. Since processed data can be diverse, NWB allows us to create processing modules, which are like folders, to store related processed data. \n",
    "\n",
    "Create a processing module called \"behavior\" for storing behavioral data in the `NWBFile` and add the `Position` object to the processing module."
   ]
  },
  {
   "cell_type": "code",
   "execution_count": 6,
   "metadata": {},
   "outputs": [
    {
     "data": {
      "text/plain": [
       "Position pynwb.behavior.Position at 0x2950981337632\n",
       "Fields:\n",
       "  spatial_series: {\n",
       "    SpatialSeries <class 'pynwb.behavior.SpatialSeries'>\n",
       "  }"
      ]
     },
     "execution_count": 6,
     "metadata": {},
     "output_type": "execute_result"
    }
   ],
   "source": [
    "behavior_module = nwbfile.create_processing_module(\n",
    "    name='behavior', \n",
    "    description='processed behavioral data'\n",
    ")\n",
    "behavior_module.add(position_obj)"
   ]
  },
  {
   "cell_type": "markdown",
   "metadata": {},
   "source": [
    "<img src=\"images/Behavior.svg\" width=\"600\">"
   ]
  },
  {
   "cell_type": "markdown",
   "metadata": {},
   "source": [
    "## Write to file"
   ]
  },
  {
   "cell_type": "markdown",
   "metadata": {},
   "source": [
    "Now, write the NWB file that we have built so far."
   ]
  },
  {
   "cell_type": "code",
   "execution_count": 7,
   "metadata": {},
   "outputs": [],
   "source": [
    "from pynwb import NWBHDF5IO\n",
    "\n",
    "with NWBHDF5IO('ecephys_tutorial.nwb', 'w') as io:\n",
    "    io.write(nwbfile)"
   ]
  },
  {
   "cell_type": "markdown",
   "metadata": {},
   "source": [
    "## Read from an NWB file\n",
    "\n",
    "We can now read the file and print it to inspect its contents. \n",
    "\n",
    "We can also print the SpatialSeries data that we created by referencing the names of the objects in the hierarchy that contain it. We can access a processing module by indexing `nwbfile.processing` with the name of the processing module, which in our case is \"behavior\". \n",
    "\n",
    "Then, we can access the `Position` object inside of the \"behavior\" processing module by indexing it with the name of the `Position` object. The default name of `Position` objects is \"Position\". \n",
    "\n",
    "Finally, we can access the `SpatialSeries` object inside of the `Position` object by indexing it with the name of the `SpatialSeries` object, which we named `'SpatialSeries'`."
   ]
  },
  {
   "cell_type": "code",
   "execution_count": 8,
   "metadata": {},
   "outputs": [
    {
     "name": "stdout",
     "output_type": "stream",
     "text": [
      "behavior pynwb.base.ProcessingModule at 0x2950988104560\n",
      "Fields:\n",
      "  data_interfaces: {\n",
      "    Position <class 'pynwb.behavior.Position'>\n",
      "  }\n",
      "  description: processed behavioral data\n",
      "\n",
      "Position pynwb.behavior.Position at 0x2950988104224\n",
      "Fields:\n",
      "  spatial_series: {\n",
      "    SpatialSeries <class 'pynwb.behavior.SpatialSeries'>\n",
      "  }\n",
      "\n",
      "SpatialSeries pynwb.behavior.SpatialSeries at 0x2950988105136\n",
      "Fields:\n",
      "  comments: no comments\n",
      "  conversion: 1.0\n",
      "  data: <HDF5 dataset \"data\": shape (50, 2), type \"<f8\">\n",
      "  description: (x,y) position in open field\n",
      "  interval: 1\n",
      "  reference_frame: (0,0) is bottom left corner\n",
      "  resolution: -1.0\n",
      "  timestamps: <HDF5 dataset \"timestamps\": shape (50,), type \"<f8\">\n",
      "  timestamps_unit: seconds\n",
      "  unit: meters\n",
      "\n"
     ]
    }
   ],
   "source": [
    "with NWBHDF5IO('ecephys_tutorial.nwb', 'r') as io:\n",
    "    read_nwbfile = io.read()\n",
    "    print(read_nwbfile.processing['behavior'])\n",
    "    print(read_nwbfile.processing['behavior']['Position'])\n",
    "    print(read_nwbfile.processing['behavior']['Position']['SpatialSeries'])"
   ]
  },
  {
   "cell_type": "markdown",
   "metadata": {},
   "source": [
    "We can also use the [HDFView](https://www.hdfgroup.org/downloads/hdfview/) tool to inspect the resulting NWB file.\n",
    "\n",
    "<img src=\"images/position_hdfview.png\" width=\"400\">"
   ]
  },
  {
   "cell_type": "markdown",
   "metadata": {},
   "source": [
    "## Trials\n",
    "\n",
    "Trials are stored in a `TimeIntervals` object which is a subclass of `DynamicTable`. `DynamicTable` objects are used to store tabular metadata throughout NWB, including for trials, electrodes, and sorted units. They offer flexibility for tabular data by allowing required columns, optional columns, and custom columns not defined in the standard.\n",
    "\n",
    "<img src=\"images/Trials.svg\" width=\"300\">\n",
    "\n",
    "The trials DynamicTable can be thought of as a table with this structure:\n",
    "\n",
    "<img src=\"images/trials_example.png\" width=\"400\">\n",
    "\n",
    "We can add custom, user-defined columns to the trials table to hold data and metadata specific to this experiment or session. Continue adding to our `NWBFile` by creating a new column for the trials table named `'correct'`, which will be a boolean array."
   ]
  },
  {
   "cell_type": "code",
   "execution_count": 9,
   "metadata": {},
   "outputs": [],
   "source": [
    "nwbfile.add_trial_column(name='correct', description='whether the trial was correct')\n",
    "nwbfile.add_trial(start_time=1.0, stop_time=5.0, correct=True)\n",
    "nwbfile.add_trial(start_time=6.0, stop_time=10.0, correct=False)"
   ]
  },
  {
   "cell_type": "markdown",
   "metadata": {},
   "source": [
    "We can view and inspect the trials table in tabular form by converting it to a pandas dataframe."
   ]
  },
  {
   "cell_type": "code",
   "execution_count": 10,
   "metadata": {},
   "outputs": [
    {
     "data": {
      "text/html": [
       "<div>\n",
       "<style scoped>\n",
       "    .dataframe tbody tr th:only-of-type {\n",
       "        vertical-align: middle;\n",
       "    }\n",
       "\n",
       "    .dataframe tbody tr th {\n",
       "        vertical-align: top;\n",
       "    }\n",
       "\n",
       "    .dataframe thead th {\n",
       "        text-align: right;\n",
       "    }\n",
       "</style>\n",
       "<table border=\"1\" class=\"dataframe\">\n",
       "  <thead>\n",
       "    <tr style=\"text-align: right;\">\n",
       "      <th></th>\n",
       "      <th>start_time</th>\n",
       "      <th>stop_time</th>\n",
       "      <th>correct</th>\n",
       "    </tr>\n",
       "    <tr>\n",
       "      <th>id</th>\n",
       "      <th></th>\n",
       "      <th></th>\n",
       "      <th></th>\n",
       "    </tr>\n",
       "  </thead>\n",
       "  <tbody>\n",
       "    <tr>\n",
       "      <th>0</th>\n",
       "      <td>1.0</td>\n",
       "      <td>5.0</td>\n",
       "      <td>True</td>\n",
       "    </tr>\n",
       "    <tr>\n",
       "      <th>1</th>\n",
       "      <td>6.0</td>\n",
       "      <td>10.0</td>\n",
       "      <td>False</td>\n",
       "    </tr>\n",
       "  </tbody>\n",
       "</table>\n",
       "</div>"
      ],
      "text/plain": [
       "    start_time  stop_time  correct\n",
       "id                                \n",
       "0          1.0        5.0     True\n",
       "1          6.0       10.0    False"
      ]
     },
     "execution_count": 10,
     "metadata": {},
     "output_type": "execute_result"
    }
   ],
   "source": [
    "df = nwbfile.trials.to_dataframe()\n",
    "df"
   ]
  },
  {
   "cell_type": "markdown",
   "metadata": {},
   "source": [
    "## Extracellular electrophysiology\n",
    "\n",
    "## Electrodes table\n",
    "In order to store extracellular electrophysiology data, you first must create an electrodes table describing the electrodes that generated this data. Extracellular electrodes are stored in an `electrodes` table, which is also a `DynamicTable`. The `electrodes` table has several required fields: x, y, z, impedence, location, filtering, and electrode group.\n",
    "\n",
    "<img src=\"images/Electrodes.png\" width=\"500\">\n",
    "\n",
    "Since this is a DynamicTable, we can add additional metadata fields. We will be adding a \"label\" column to the table.\n",
    "Use the following code to add electrodes for an array with 4 shanks and 3 channels per shank."
   ]
  },
  {
   "cell_type": "code",
   "execution_count": 11,
   "metadata": {},
   "outputs": [],
   "source": [
    "nwbfile.add_electrode_column(name='label', description='label of electrode')\n",
    "\n",
    "nshanks = 4\n",
    "nchannels_per_shank = 3\n",
    "electrode_counter = 0\n",
    "device = nwbfile.create_device(\n",
    "    name='array',\n",
    "    description='the best array',\n",
    "    manufacturer='Probe Company 9000'\n",
    ")\n",
    "for ishank in range(nshanks):\n",
    "    # create an electrode group for this shank\n",
    "    electrode_group = nwbfile.create_electrode_group(\n",
    "       name='shank{}'.format(ishank),\n",
    "       description='electrode group for shank {}'.format(ishank),\n",
    "       device=device,\n",
    "       location='brain area'\n",
    "    )\n",
    "    # add electrodes to the electrode table\n",
    "    for ielec in range(nchannels_per_shank):\n",
    "        nwbfile.add_electrode(\n",
    "            x=5.3, y=1.5, z=8.5, imp=np.nan,\n",
    "            location='unknown', \n",
    "            filtering='unknown',\n",
    "            group=electrode_group,\n",
    "            label='shank{}elec{}'.format(ishank, ielec)\n",
    "        )\n",
    "        electrode_counter += 1"
   ]
  },
  {
   "cell_type": "markdown",
   "metadata": {},
   "source": [
    "Like for the trials table, we can view the electrodes table in tabular form by converting it to a pandas dataframe."
   ]
  },
  {
   "cell_type": "code",
   "execution_count": 12,
   "metadata": {},
   "outputs": [
    {
     "data": {
      "text/html": [
       "<div>\n",
       "<style scoped>\n",
       "    .dataframe tbody tr th:only-of-type {\n",
       "        vertical-align: middle;\n",
       "    }\n",
       "\n",
       "    .dataframe tbody tr th {\n",
       "        vertical-align: top;\n",
       "    }\n",
       "\n",
       "    .dataframe thead th {\n",
       "        text-align: right;\n",
       "    }\n",
       "</style>\n",
       "<table border=\"1\" class=\"dataframe\">\n",
       "  <thead>\n",
       "    <tr style=\"text-align: right;\">\n",
       "      <th></th>\n",
       "      <th>x</th>\n",
       "      <th>y</th>\n",
       "      <th>z</th>\n",
       "      <th>imp</th>\n",
       "      <th>location</th>\n",
       "      <th>filtering</th>\n",
       "      <th>group</th>\n",
       "      <th>group_name</th>\n",
       "      <th>label</th>\n",
       "    </tr>\n",
       "    <tr>\n",
       "      <th>id</th>\n",
       "      <th></th>\n",
       "      <th></th>\n",
       "      <th></th>\n",
       "      <th></th>\n",
       "      <th></th>\n",
       "      <th></th>\n",
       "      <th></th>\n",
       "      <th></th>\n",
       "      <th></th>\n",
       "    </tr>\n",
       "  </thead>\n",
       "  <tbody>\n",
       "    <tr>\n",
       "      <th>0</th>\n",
       "      <td>5.3</td>\n",
       "      <td>1.5</td>\n",
       "      <td>8.5</td>\n",
       "      <td>NaN</td>\n",
       "      <td>unknown</td>\n",
       "      <td>unknown</td>\n",
       "      <td>shank0 pynwb.ecephys.ElectrodeGroup at 0x29509...</td>\n",
       "      <td>shank0</td>\n",
       "      <td>shank0elec0</td>\n",
       "    </tr>\n",
       "    <tr>\n",
       "      <th>1</th>\n",
       "      <td>5.3</td>\n",
       "      <td>1.5</td>\n",
       "      <td>8.5</td>\n",
       "      <td>NaN</td>\n",
       "      <td>unknown</td>\n",
       "      <td>unknown</td>\n",
       "      <td>shank0 pynwb.ecephys.ElectrodeGroup at 0x29509...</td>\n",
       "      <td>shank0</td>\n",
       "      <td>shank0elec1</td>\n",
       "    </tr>\n",
       "    <tr>\n",
       "      <th>2</th>\n",
       "      <td>5.3</td>\n",
       "      <td>1.5</td>\n",
       "      <td>8.5</td>\n",
       "      <td>NaN</td>\n",
       "      <td>unknown</td>\n",
       "      <td>unknown</td>\n",
       "      <td>shank0 pynwb.ecephys.ElectrodeGroup at 0x29509...</td>\n",
       "      <td>shank0</td>\n",
       "      <td>shank0elec2</td>\n",
       "    </tr>\n",
       "    <tr>\n",
       "      <th>3</th>\n",
       "      <td>5.3</td>\n",
       "      <td>1.5</td>\n",
       "      <td>8.5</td>\n",
       "      <td>NaN</td>\n",
       "      <td>unknown</td>\n",
       "      <td>unknown</td>\n",
       "      <td>shank1 pynwb.ecephys.ElectrodeGroup at 0x29509...</td>\n",
       "      <td>shank1</td>\n",
       "      <td>shank1elec0</td>\n",
       "    </tr>\n",
       "    <tr>\n",
       "      <th>4</th>\n",
       "      <td>5.3</td>\n",
       "      <td>1.5</td>\n",
       "      <td>8.5</td>\n",
       "      <td>NaN</td>\n",
       "      <td>unknown</td>\n",
       "      <td>unknown</td>\n",
       "      <td>shank1 pynwb.ecephys.ElectrodeGroup at 0x29509...</td>\n",
       "      <td>shank1</td>\n",
       "      <td>shank1elec1</td>\n",
       "    </tr>\n",
       "    <tr>\n",
       "      <th>5</th>\n",
       "      <td>5.3</td>\n",
       "      <td>1.5</td>\n",
       "      <td>8.5</td>\n",
       "      <td>NaN</td>\n",
       "      <td>unknown</td>\n",
       "      <td>unknown</td>\n",
       "      <td>shank1 pynwb.ecephys.ElectrodeGroup at 0x29509...</td>\n",
       "      <td>shank1</td>\n",
       "      <td>shank1elec2</td>\n",
       "    </tr>\n",
       "    <tr>\n",
       "      <th>6</th>\n",
       "      <td>5.3</td>\n",
       "      <td>1.5</td>\n",
       "      <td>8.5</td>\n",
       "      <td>NaN</td>\n",
       "      <td>unknown</td>\n",
       "      <td>unknown</td>\n",
       "      <td>shank2 pynwb.ecephys.ElectrodeGroup at 0x29526...</td>\n",
       "      <td>shank2</td>\n",
       "      <td>shank2elec0</td>\n",
       "    </tr>\n",
       "    <tr>\n",
       "      <th>7</th>\n",
       "      <td>5.3</td>\n",
       "      <td>1.5</td>\n",
       "      <td>8.5</td>\n",
       "      <td>NaN</td>\n",
       "      <td>unknown</td>\n",
       "      <td>unknown</td>\n",
       "      <td>shank2 pynwb.ecephys.ElectrodeGroup at 0x29526...</td>\n",
       "      <td>shank2</td>\n",
       "      <td>shank2elec1</td>\n",
       "    </tr>\n",
       "    <tr>\n",
       "      <th>8</th>\n",
       "      <td>5.3</td>\n",
       "      <td>1.5</td>\n",
       "      <td>8.5</td>\n",
       "      <td>NaN</td>\n",
       "      <td>unknown</td>\n",
       "      <td>unknown</td>\n",
       "      <td>shank2 pynwb.ecephys.ElectrodeGroup at 0x29526...</td>\n",
       "      <td>shank2</td>\n",
       "      <td>shank2elec2</td>\n",
       "    </tr>\n",
       "    <tr>\n",
       "      <th>9</th>\n",
       "      <td>5.3</td>\n",
       "      <td>1.5</td>\n",
       "      <td>8.5</td>\n",
       "      <td>NaN</td>\n",
       "      <td>unknown</td>\n",
       "      <td>unknown</td>\n",
       "      <td>shank3 pynwb.ecephys.ElectrodeGroup at 0x29509...</td>\n",
       "      <td>shank3</td>\n",
       "      <td>shank3elec0</td>\n",
       "    </tr>\n",
       "    <tr>\n",
       "      <th>10</th>\n",
       "      <td>5.3</td>\n",
       "      <td>1.5</td>\n",
       "      <td>8.5</td>\n",
       "      <td>NaN</td>\n",
       "      <td>unknown</td>\n",
       "      <td>unknown</td>\n",
       "      <td>shank3 pynwb.ecephys.ElectrodeGroup at 0x29509...</td>\n",
       "      <td>shank3</td>\n",
       "      <td>shank3elec1</td>\n",
       "    </tr>\n",
       "    <tr>\n",
       "      <th>11</th>\n",
       "      <td>5.3</td>\n",
       "      <td>1.5</td>\n",
       "      <td>8.5</td>\n",
       "      <td>NaN</td>\n",
       "      <td>unknown</td>\n",
       "      <td>unknown</td>\n",
       "      <td>shank3 pynwb.ecephys.ElectrodeGroup at 0x29509...</td>\n",
       "      <td>shank3</td>\n",
       "      <td>shank3elec2</td>\n",
       "    </tr>\n",
       "  </tbody>\n",
       "</table>\n",
       "</div>"
      ],
      "text/plain": [
       "      x    y    z  imp location filtering  \\\n",
       "id                                          \n",
       "0   5.3  1.5  8.5  NaN  unknown   unknown   \n",
       "1   5.3  1.5  8.5  NaN  unknown   unknown   \n",
       "2   5.3  1.5  8.5  NaN  unknown   unknown   \n",
       "3   5.3  1.5  8.5  NaN  unknown   unknown   \n",
       "4   5.3  1.5  8.5  NaN  unknown   unknown   \n",
       "5   5.3  1.5  8.5  NaN  unknown   unknown   \n",
       "6   5.3  1.5  8.5  NaN  unknown   unknown   \n",
       "7   5.3  1.5  8.5  NaN  unknown   unknown   \n",
       "8   5.3  1.5  8.5  NaN  unknown   unknown   \n",
       "9   5.3  1.5  8.5  NaN  unknown   unknown   \n",
       "10  5.3  1.5  8.5  NaN  unknown   unknown   \n",
       "11  5.3  1.5  8.5  NaN  unknown   unknown   \n",
       "\n",
       "                                                group group_name        label  \n",
       "id                                                                             \n",
       "0   shank0 pynwb.ecephys.ElectrodeGroup at 0x29509...     shank0  shank0elec0  \n",
       "1   shank0 pynwb.ecephys.ElectrodeGroup at 0x29509...     shank0  shank0elec1  \n",
       "2   shank0 pynwb.ecephys.ElectrodeGroup at 0x29509...     shank0  shank0elec2  \n",
       "3   shank1 pynwb.ecephys.ElectrodeGroup at 0x29509...     shank1  shank1elec0  \n",
       "4   shank1 pynwb.ecephys.ElectrodeGroup at 0x29509...     shank1  shank1elec1  \n",
       "5   shank1 pynwb.ecephys.ElectrodeGroup at 0x29509...     shank1  shank1elec2  \n",
       "6   shank2 pynwb.ecephys.ElectrodeGroup at 0x29526...     shank2  shank2elec0  \n",
       "7   shank2 pynwb.ecephys.ElectrodeGroup at 0x29526...     shank2  shank2elec1  \n",
       "8   shank2 pynwb.ecephys.ElectrodeGroup at 0x29526...     shank2  shank2elec2  \n",
       "9   shank3 pynwb.ecephys.ElectrodeGroup at 0x29509...     shank3  shank3elec0  \n",
       "10  shank3 pynwb.ecephys.ElectrodeGroup at 0x29509...     shank3  shank3elec1  \n",
       "11  shank3 pynwb.ecephys.ElectrodeGroup at 0x29509...     shank3  shank3elec2  "
      ]
     },
     "execution_count": 12,
     "metadata": {},
     "output_type": "execute_result"
    }
   ],
   "source": [
    "df = nwbfile.electrodes.to_dataframe()\n",
    "df"
   ]
  },
  {
   "cell_type": "markdown",
   "metadata": {},
   "source": [
    "## Links\n",
    "In the above loop, we created `ElectrodeGroup` objects in the `NWBFile`, and when we added an electrode to the `NWBFile`, we passed in the `ElectrodeGroup` object for the required `'group'` argument. This creates a reference from the `electrodes` table to individual `ElectrodeGroup` objects, one per row (electrode).\n",
    "\n",
    "## ElectricalSeries and DynamicTableRegion\n",
    "Raw voltage data and LFP data are stored in `ElectricalSeries` objects. `ElectricalSeries` is a subclass of `TimeSeries` specialized for voltage data. In order to create our `ElectricalSeries` objects, we will need to reference a set of rows in the `electrodes` table to indicate which electrodes were recorded. We will do this by creating a `DynamicTableRegion`, which is a type of link that allows you to reference specific rows of a `DynamicTable`, such as the `electrodes` table, by row indices.\n",
    "\n",
    "Create a `DynamicTableRegion` that references all rows of the `electrodes` table."
   ]
  },
  {
   "cell_type": "code",
   "execution_count": 16,
   "metadata": {},
   "outputs": [],
   "source": [
    "all_table_region = nwbfile.create_electrode_table_region(\n",
    "    region=list(range(electrode_counter)),  # reference row indices 0 to N-1\n",
    "    description='all electrodes'\n",
    ")"
   ]
  },
  {
   "cell_type": "markdown",
   "metadata": {},
   "source": [
    "## Raw data\n",
    "\n",
    "Now create an `ElectricalSeries` object to hold raw data collected during the experiment, passing in this `DynamicTableRegion` reference to all rows of the `electrodes` table.\n",
    "\n",
    "<img src=\"images/ElectricalSeries.png\" width=\"800\">"
   ]
  },
  {
   "cell_type": "code",
   "execution_count": 17,
   "metadata": {},
   "outputs": [],
   "source": [
    "from pynwb.ecephys import ElectricalSeries\n",
    "\n",
    "raw_data = np.random.randn(50, 4)\n",
    "raw_elec_series = ElectricalSeries(\n",
    "    name='ElectricalSeries', \n",
    "    data=raw_data, \n",
    "    electrodes=all_table_region, \n",
    "    starting_time=0.,  # relative to NWBFile.session_start_time\n",
    "    rate=20000.  # in Hz\n",
    ")"
   ]
  },
  {
   "cell_type": "markdown",
   "metadata": {},
   "source": [
    "NWB organizes data into different groups depending on the type of data. Groups can be thought of as folders within the file. Here are some of the groups within an NWB file and the types of data they are intended to store:\n",
    "- **acquisition**: raw, acquired data that should never change\n",
    "- **processing**: processed data, typically the results of preprocessing algorithms and could change\n",
    "- **analysis**: results of data analysis\n",
    "- **stimuli**: stimuli used in the experiment (e.g., images, videos, light pulses)\n",
    "\n",
    "Since this `ElectricalSeries` represents raw data from the data acquisition system, add it to the acquisition group of the NWB file."
   ]
  },
  {
   "cell_type": "code",
   "execution_count": 18,
   "metadata": {},
   "outputs": [],
   "source": [
    "nwbfile.add_acquisition(raw_elec_series)"
   ]
  },
  {
   "cell_type": "markdown",
   "metadata": {},
   "source": [
    "## LFP\n",
    "\n",
    "Now create an `ElectricalSeries` object to hold LFP data collected during the experiment, again passing in the `DynamicTableRegion` reference to all rows of the `electrodes` table."
   ]
  },
  {
   "cell_type": "code",
   "execution_count": 19,
   "metadata": {},
   "outputs": [],
   "source": [
    "lfp_data = np.random.randn(50, 4)\n",
    "lfp_elec_series = ElectricalSeries(\n",
    "    name='ElectricalSeries', \n",
    "    data=lfp_data, \n",
    "    electrodes=all_table_region, \n",
    "    starting_time=0.,\n",
    "    rate=200.\n",
    ")"
   ]
  },
  {
   "cell_type": "markdown",
   "metadata": {},
   "source": [
    "To help data analysis and visualization tools know that this `ElectricalSeries` object represents LFP data, store the `ElectricalSeries` object inside of an `LFP` object. This is analogous to how we stored the `SpatialSeries` object inside of a `Position` object earlier.\n",
    "\n",
    "<img src=\"images/LFP.png\" width=\"800\">"
   ]
  },
  {
   "cell_type": "code",
   "execution_count": 20,
   "metadata": {},
   "outputs": [],
   "source": [
    "from pynwb.ecephys import LFP\n",
    "\n",
    "lfp = LFP(electrical_series=lfp_elec_series)"
   ]
  },
  {
   "cell_type": "markdown",
   "metadata": {},
   "source": [
    "Unlike the raw data, which we put into the acquisition group of the NWB file, LFP data is typically considered processed data because the raw data was filtered and downsampled to generate the LFP. \n",
    "\n",
    "Create a processing module named `'ecephys'` and add the `LFP` object to it. This is analogous to how we stored the `Position` object in a processing module named `'behavior'` earlier."
   ]
  },
  {
   "cell_type": "code",
   "execution_count": 21,
   "metadata": {},
   "outputs": [
    {
     "data": {
      "text/plain": [
       "LFP pynwb.ecephys.LFP at 0x2950987236352\n",
       "Fields:\n",
       "  electrical_series: {\n",
       "    ElectricalSeries <class 'pynwb.ecephys.ElectricalSeries'>\n",
       "  }"
      ]
     },
     "execution_count": 21,
     "metadata": {},
     "output_type": "execute_result"
    }
   ],
   "source": [
    "ecephys_module = nwbfile.create_processing_module(\n",
    "    name='ecephys', \n",
    "    description='processed extracellular electrophysiology data'\n",
    ")\n",
    "ecephys_module.add(lfp)"
   ]
  },
  {
   "cell_type": "markdown",
   "metadata": {},
   "source": [
    "## Spike Times\n",
    "Spike times are stored in the `Units` table, which is another subclass of `DynamicTable`. We can add columns to the `Units` table just like we did for the electrodes and trials tables. \n",
    "\n",
    "Generate some random spike data and populate the `Units` table using `nwbfile.add_unit`. Then display the `Units` table as a pandas dataframe."
   ]
  },
  {
   "cell_type": "code",
   "execution_count": 22,
   "metadata": {},
   "outputs": [
    {
     "ename": "ValueError",
     "evalue": "column 'quality' already exists in Units 'units'",
     "output_type": "error",
     "traceback": [
      "\u001b[1;31m---------------------------------------------------------------------------\u001b[0m",
      "\u001b[1;31mValueError\u001b[0m                                Traceback (most recent call last)",
      "\u001b[1;32m~\\AppData\\Local\\Temp/ipykernel_6908/3758624992.py\u001b[0m in \u001b[0;36m<module>\u001b[1;34m\u001b[0m\n\u001b[1;32m----> 1\u001b[1;33m \u001b[0mnwbfile\u001b[0m\u001b[1;33m.\u001b[0m\u001b[0madd_unit_column\u001b[0m\u001b[1;33m(\u001b[0m\u001b[0mname\u001b[0m\u001b[1;33m=\u001b[0m\u001b[1;34m'quality'\u001b[0m\u001b[1;33m,\u001b[0m \u001b[0mdescription\u001b[0m\u001b[1;33m=\u001b[0m\u001b[1;34m'sorting quality'\u001b[0m\u001b[1;33m)\u001b[0m\u001b[1;33m\u001b[0m\u001b[1;33m\u001b[0m\u001b[0m\n\u001b[0m\u001b[0;32m      2\u001b[0m \u001b[1;33m\u001b[0m\u001b[0m\n\u001b[0;32m      3\u001b[0m \u001b[0mpoisson_lambda\u001b[0m \u001b[1;33m=\u001b[0m \u001b[1;36m20\u001b[0m\u001b[1;33m\u001b[0m\u001b[1;33m\u001b[0m\u001b[0m\n\u001b[0;32m      4\u001b[0m \u001b[0mfiring_rate\u001b[0m \u001b[1;33m=\u001b[0m \u001b[1;36m20\u001b[0m\u001b[1;33m\u001b[0m\u001b[1;33m\u001b[0m\u001b[0m\n\u001b[0;32m      5\u001b[0m \u001b[0mn_units\u001b[0m \u001b[1;33m=\u001b[0m \u001b[1;36m10\u001b[0m\u001b[1;33m\u001b[0m\u001b[1;33m\u001b[0m\u001b[0m\n",
      "\u001b[1;32m~\\miniconda3\\envs\\tutorial\\lib\\site-packages\\hdmf\\utils.py\u001b[0m in \u001b[0;36mfunc_call\u001b[1;34m(*args, **kwargs)\u001b[0m\n\u001b[0;32m    581\u001b[0m             \u001b[1;32mdef\u001b[0m \u001b[0mfunc_call\u001b[0m\u001b[1;33m(\u001b[0m\u001b[1;33m*\u001b[0m\u001b[0margs\u001b[0m\u001b[1;33m,\u001b[0m \u001b[1;33m**\u001b[0m\u001b[0mkwargs\u001b[0m\u001b[1;33m)\u001b[0m\u001b[1;33m:\u001b[0m\u001b[1;33m\u001b[0m\u001b[1;33m\u001b[0m\u001b[0m\n\u001b[0;32m    582\u001b[0m                 \u001b[0mpargs\u001b[0m \u001b[1;33m=\u001b[0m \u001b[0m_check_args\u001b[0m\u001b[1;33m(\u001b[0m\u001b[0margs\u001b[0m\u001b[1;33m,\u001b[0m \u001b[0mkwargs\u001b[0m\u001b[1;33m)\u001b[0m\u001b[1;33m\u001b[0m\u001b[1;33m\u001b[0m\u001b[0m\n\u001b[1;32m--> 583\u001b[1;33m                 \u001b[1;32mreturn\u001b[0m \u001b[0mfunc\u001b[0m\u001b[1;33m(\u001b[0m\u001b[0margs\u001b[0m\u001b[1;33m[\u001b[0m\u001b[1;36m0\u001b[0m\u001b[1;33m]\u001b[0m\u001b[1;33m,\u001b[0m \u001b[1;33m**\u001b[0m\u001b[0mpargs\u001b[0m\u001b[1;33m)\u001b[0m\u001b[1;33m\u001b[0m\u001b[1;33m\u001b[0m\u001b[0m\n\u001b[0m\u001b[0;32m    584\u001b[0m         \u001b[1;32melse\u001b[0m\u001b[1;33m:\u001b[0m\u001b[1;33m\u001b[0m\u001b[1;33m\u001b[0m\u001b[0m\n\u001b[0;32m    585\u001b[0m             \u001b[1;32mdef\u001b[0m \u001b[0mfunc_call\u001b[0m\u001b[1;33m(\u001b[0m\u001b[1;33m*\u001b[0m\u001b[0margs\u001b[0m\u001b[1;33m,\u001b[0m \u001b[1;33m**\u001b[0m\u001b[0mkwargs\u001b[0m\u001b[1;33m)\u001b[0m\u001b[1;33m:\u001b[0m\u001b[1;33m\u001b[0m\u001b[1;33m\u001b[0m\u001b[0m\n",
      "\u001b[1;32m~\\miniconda3\\envs\\tutorial\\lib\\site-packages\\pynwb\\file.py\u001b[0m in \u001b[0;36madd_unit_column\u001b[1;34m(self, **kwargs)\u001b[0m\n\u001b[0;32m    647\u001b[0m         \"\"\"\n\u001b[0;32m    648\u001b[0m         \u001b[0mself\u001b[0m\u001b[1;33m.\u001b[0m\u001b[0m__check_units\u001b[0m\u001b[1;33m(\u001b[0m\u001b[1;33m)\u001b[0m\u001b[1;33m\u001b[0m\u001b[1;33m\u001b[0m\u001b[0m\n\u001b[1;32m--> 649\u001b[1;33m         \u001b[0mcall_docval_func\u001b[0m\u001b[1;33m(\u001b[0m\u001b[0mself\u001b[0m\u001b[1;33m.\u001b[0m\u001b[0munits\u001b[0m\u001b[1;33m.\u001b[0m\u001b[0madd_column\u001b[0m\u001b[1;33m,\u001b[0m \u001b[0mkwargs\u001b[0m\u001b[1;33m)\u001b[0m\u001b[1;33m\u001b[0m\u001b[1;33m\u001b[0m\u001b[0m\n\u001b[0m\u001b[0;32m    650\u001b[0m \u001b[1;33m\u001b[0m\u001b[0m\n\u001b[0;32m    651\u001b[0m     \u001b[1;33m@\u001b[0m\u001b[0mdocval\u001b[0m\u001b[1;33m(\u001b[0m\u001b[1;33m*\u001b[0m\u001b[0mget_docval\u001b[0m\u001b[1;33m(\u001b[0m\u001b[0mUnits\u001b[0m\u001b[1;33m.\u001b[0m\u001b[0madd_unit\u001b[0m\u001b[1;33m)\u001b[0m\u001b[1;33m,\u001b[0m \u001b[0mallow_extra\u001b[0m\u001b[1;33m=\u001b[0m\u001b[1;32mTrue\u001b[0m\u001b[1;33m)\u001b[0m\u001b[1;33m\u001b[0m\u001b[1;33m\u001b[0m\u001b[0m\n",
      "\u001b[1;32m~\\miniconda3\\envs\\tutorial\\lib\\site-packages\\hdmf\\utils.py\u001b[0m in \u001b[0;36mcall_docval_func\u001b[1;34m(func, kwargs)\u001b[0m\n\u001b[0;32m    422\u001b[0m \u001b[1;32mdef\u001b[0m \u001b[0mcall_docval_func\u001b[0m\u001b[1;33m(\u001b[0m\u001b[0mfunc\u001b[0m\u001b[1;33m,\u001b[0m \u001b[0mkwargs\u001b[0m\u001b[1;33m)\u001b[0m\u001b[1;33m:\u001b[0m\u001b[1;33m\u001b[0m\u001b[1;33m\u001b[0m\u001b[0m\n\u001b[0;32m    423\u001b[0m     \u001b[0mfargs\u001b[0m\u001b[1;33m,\u001b[0m \u001b[0mfkwargs\u001b[0m \u001b[1;33m=\u001b[0m \u001b[0mfmt_docval_args\u001b[0m\u001b[1;33m(\u001b[0m\u001b[0mfunc\u001b[0m\u001b[1;33m,\u001b[0m \u001b[0mkwargs\u001b[0m\u001b[1;33m)\u001b[0m\u001b[1;33m\u001b[0m\u001b[1;33m\u001b[0m\u001b[0m\n\u001b[1;32m--> 424\u001b[1;33m     \u001b[1;32mreturn\u001b[0m \u001b[0mfunc\u001b[0m\u001b[1;33m(\u001b[0m\u001b[1;33m*\u001b[0m\u001b[0mfargs\u001b[0m\u001b[1;33m,\u001b[0m \u001b[1;33m**\u001b[0m\u001b[0mfkwargs\u001b[0m\u001b[1;33m)\u001b[0m\u001b[1;33m\u001b[0m\u001b[1;33m\u001b[0m\u001b[0m\n\u001b[0m\u001b[0;32m    425\u001b[0m \u001b[1;33m\u001b[0m\u001b[0m\n\u001b[0;32m    426\u001b[0m \u001b[1;33m\u001b[0m\u001b[0m\n",
      "\u001b[1;32m~\\miniconda3\\envs\\tutorial\\lib\\site-packages\\hdmf\\utils.py\u001b[0m in \u001b[0;36mfunc_call\u001b[1;34m(*args, **kwargs)\u001b[0m\n\u001b[0;32m    581\u001b[0m             \u001b[1;32mdef\u001b[0m \u001b[0mfunc_call\u001b[0m\u001b[1;33m(\u001b[0m\u001b[1;33m*\u001b[0m\u001b[0margs\u001b[0m\u001b[1;33m,\u001b[0m \u001b[1;33m**\u001b[0m\u001b[0mkwargs\u001b[0m\u001b[1;33m)\u001b[0m\u001b[1;33m:\u001b[0m\u001b[1;33m\u001b[0m\u001b[1;33m\u001b[0m\u001b[0m\n\u001b[0;32m    582\u001b[0m                 \u001b[0mpargs\u001b[0m \u001b[1;33m=\u001b[0m \u001b[0m_check_args\u001b[0m\u001b[1;33m(\u001b[0m\u001b[0margs\u001b[0m\u001b[1;33m,\u001b[0m \u001b[0mkwargs\u001b[0m\u001b[1;33m)\u001b[0m\u001b[1;33m\u001b[0m\u001b[1;33m\u001b[0m\u001b[0m\n\u001b[1;32m--> 583\u001b[1;33m                 \u001b[1;32mreturn\u001b[0m \u001b[0mfunc\u001b[0m\u001b[1;33m(\u001b[0m\u001b[0margs\u001b[0m\u001b[1;33m[\u001b[0m\u001b[1;36m0\u001b[0m\u001b[1;33m]\u001b[0m\u001b[1;33m,\u001b[0m \u001b[1;33m**\u001b[0m\u001b[0mpargs\u001b[0m\u001b[1;33m)\u001b[0m\u001b[1;33m\u001b[0m\u001b[1;33m\u001b[0m\u001b[0m\n\u001b[0m\u001b[0;32m    584\u001b[0m         \u001b[1;32melse\u001b[0m\u001b[1;33m:\u001b[0m\u001b[1;33m\u001b[0m\u001b[1;33m\u001b[0m\u001b[0m\n\u001b[0;32m    585\u001b[0m             \u001b[1;32mdef\u001b[0m \u001b[0mfunc_call\u001b[0m\u001b[1;33m(\u001b[0m\u001b[1;33m*\u001b[0m\u001b[0margs\u001b[0m\u001b[1;33m,\u001b[0m \u001b[1;33m**\u001b[0m\u001b[0mkwargs\u001b[0m\u001b[1;33m)\u001b[0m\u001b[1;33m:\u001b[0m\u001b[1;33m\u001b[0m\u001b[1;33m\u001b[0m\u001b[0m\n",
      "\u001b[1;32m~\\miniconda3\\envs\\tutorial\\lib\\site-packages\\hdmf\\common\\table.py\u001b[0m in \u001b[0;36madd_column\u001b[1;34m(self, **kwargs)\u001b[0m\n\u001b[0;32m    667\u001b[0m         \u001b[1;32mif\u001b[0m \u001b[0mname\u001b[0m \u001b[1;32min\u001b[0m \u001b[0mself\u001b[0m\u001b[1;33m.\u001b[0m\u001b[0m__colids\u001b[0m\u001b[1;33m:\u001b[0m  \u001b[1;31m# column has already been added\u001b[0m\u001b[1;33m\u001b[0m\u001b[1;33m\u001b[0m\u001b[0m\n\u001b[0;32m    668\u001b[0m             \u001b[0mmsg\u001b[0m \u001b[1;33m=\u001b[0m \u001b[1;34m\"column '%s' already exists in %s '%s'\"\u001b[0m \u001b[1;33m%\u001b[0m \u001b[1;33m(\u001b[0m\u001b[0mname\u001b[0m\u001b[1;33m,\u001b[0m \u001b[0mself\u001b[0m\u001b[1;33m.\u001b[0m\u001b[0m__class__\u001b[0m\u001b[1;33m.\u001b[0m\u001b[0m__name__\u001b[0m\u001b[1;33m,\u001b[0m \u001b[0mself\u001b[0m\u001b[1;33m.\u001b[0m\u001b[0mname\u001b[0m\u001b[1;33m)\u001b[0m\u001b[1;33m\u001b[0m\u001b[1;33m\u001b[0m\u001b[0m\n\u001b[1;32m--> 669\u001b[1;33m             \u001b[1;32mraise\u001b[0m \u001b[0mValueError\u001b[0m\u001b[1;33m(\u001b[0m\u001b[0mmsg\u001b[0m\u001b[1;33m)\u001b[0m\u001b[1;33m\u001b[0m\u001b[1;33m\u001b[0m\u001b[0m\n\u001b[0m\u001b[0;32m    670\u001b[0m \u001b[1;33m\u001b[0m\u001b[0m\n\u001b[0;32m    671\u001b[0m         \u001b[1;32mif\u001b[0m \u001b[0mname\u001b[0m \u001b[1;32min\u001b[0m \u001b[0mself\u001b[0m\u001b[1;33m.\u001b[0m\u001b[0m__uninit_cols\u001b[0m\u001b[1;33m:\u001b[0m  \u001b[1;31m# column is a predefined optional column from the spec\u001b[0m\u001b[1;33m\u001b[0m\u001b[1;33m\u001b[0m\u001b[0m\n",
      "\u001b[1;31mValueError\u001b[0m: column 'quality' already exists in Units 'units'"
     ]
    }
   ],
   "source": [
    "nwbfile.add_unit_column(name='quality', description='sorting quality')\n",
    "\n",
    "poisson_lambda = 20\n",
    "firing_rate = 20\n",
    "n_units = 10\n",
    "for n_units_per_shank in range(n_units):\n",
    "    n_spikes = np.random.poisson(lam=poisson_lambda)\n",
    "    spike_times = np.round(np.cumsum(np.random.exponential(1/firing_rate, n_spikes)), 5)\n",
    "    nwbfile.add_unit(spike_times=spike_times, quality='good', waveform_mean=[1., 2., 3., 4., 5.])\n",
    "\n",
    "df = nwbfile.units.to_dataframe()\n",
    "df"
   ]
  },
  {
   "cell_type": "markdown",
   "metadata": {},
   "source": [
    "## Write the file"
   ]
  },
  {
   "cell_type": "code",
   "execution_count": 23,
   "metadata": {},
   "outputs": [],
   "source": [
    "with NWBHDF5IO('ecephys_tutorial.nwb', 'w') as io:\n",
    "    io.write(nwbfile)"
   ]
  },
  {
   "cell_type": "markdown",
   "metadata": {},
   "source": [
    "## Read the NWB file\n",
    "\n",
    "We can access the raw data by indexing `nwbfile.acquisition` with the name of the `ElectricalSeries`, which we named `'ElectricalSeries'`. \n",
    "\n",
    "We can also access the LFP data by indexing `nwbfile.processing` with the name of the processing module, \"ecephys\". Then, we can access the `LFP` object inside of the \"ecephys\" processing module by indexing it with the name of the `LFP` object. The default name of `LFP` objects is \"LFP\". \n",
    "\n",
    "Finally, we can access the `ElectricalSeries` object inside of the `LFP` object by indexing it with the name of the `ElectricalSeries` object, which we named `'ElectricalSeries'`."
   ]
  },
  {
   "cell_type": "code",
   "execution_count": 24,
   "metadata": {},
   "outputs": [
    {
     "name": "stdout",
     "output_type": "stream",
     "text": [
      "ElectricalSeries pynwb.ecephys.ElectricalSeries at 0x2950986481328\n",
      "Fields:\n",
      "  comments: no comments\n",
      "  conversion: 1.0\n",
      "  data: <HDF5 dataset \"data\": shape (50, 4), type \"<f8\">\n",
      "  description: no description\n",
      "  electrodes: electrodes <class 'hdmf.common.table.DynamicTableRegion'>\n",
      "  rate: 20000.0\n",
      "  resolution: -1.0\n",
      "  starting_time: 0.0\n",
      "  starting_time_unit: seconds\n",
      "  unit: volts\n",
      "\n",
      "ecephys pynwb.base.ProcessingModule at 0x2950984830160\n",
      "Fields:\n",
      "  data_interfaces: {\n",
      "    LFP <class 'pynwb.ecephys.LFP'>\n",
      "  }\n",
      "  description: processed extracellular electrophysiology data\n",
      "\n",
      "LFP pynwb.ecephys.LFP at 0x2950987343424\n",
      "Fields:\n",
      "  electrical_series: {\n",
      "    ElectricalSeries <class 'pynwb.ecephys.ElectricalSeries'>\n",
      "  }\n",
      "\n",
      "ElectricalSeries pynwb.ecephys.ElectricalSeries at 0x2950987067104\n",
      "Fields:\n",
      "  comments: no comments\n",
      "  conversion: 1.0\n",
      "  data: <HDF5 dataset \"data\": shape (50, 4), type \"<f8\">\n",
      "  description: no description\n",
      "  electrodes: electrodes <class 'hdmf.common.table.DynamicTableRegion'>\n",
      "  rate: 200.0\n",
      "  resolution: -1.0\n",
      "  starting_time: 0.0\n",
      "  starting_time_unit: seconds\n",
      "  unit: volts\n",
      "\n"
     ]
    }
   ],
   "source": [
    "with NWBHDF5IO('ecephys_tutorial.nwb', 'r') as io:\n",
    "    read_nwbfile = io.read()\n",
    "    print(read_nwbfile.acquisition['ElectricalSeries'])\n",
    "    print(read_nwbfile.processing['ecephys'])\n",
    "    print(read_nwbfile.processing['ecephys']['LFP'])\n",
    "    print(read_nwbfile.processing['ecephys']['LFP']['ElectricalSeries'])"
   ]
  },
  {
   "cell_type": "markdown",
   "metadata": {},
   "source": [
    "## Reading NWB data\n",
    "\n",
    "Data arrays are read passively from the file. Calling the `data` attribute on a `TimeSeries` such as an `ElectricalSeries` or `SpatialSeries` does not read the data values, but presents an `h5py` object that can be indexed to read data. You can use the `[:]` operator to read the entire data array into memory.\n",
    "\n",
    "Load and print all the `data` values of the `ElectricalSeries` object representing the LFP data."
   ]
  },
  {
   "cell_type": "code",
   "execution_count": 25,
   "metadata": {},
   "outputs": [
    {
     "name": "stdout",
     "output_type": "stream",
     "text": [
      "[[-8.75608707e-01  1.33546920e+00  1.23168166e+00 -1.40936695e-01]\n",
      " [-4.29469288e-01  1.29490861e+00 -5.95255922e-01 -7.29181906e-01]\n",
      " [-8.76114925e-02  3.11130777e-01  2.15797916e-01 -5.17973495e-01]\n",
      " [ 2.11679763e+00  8.39720548e-01 -4.18537751e-01  7.65812944e-01]\n",
      " [-1.49248973e+00  1.49776208e-01 -1.13477708e+00 -1.81589851e-01]\n",
      " [-9.19759772e-01 -7.97928142e-01  2.54397226e-01  1.94908777e+00]\n",
      " [-1.54234817e+00 -9.27933301e-03 -7.91394213e-01 -1.10047038e+00]\n",
      " [-3.74264990e-01 -1.42596425e+00  7.32525353e-01  1.06372014e+00]\n",
      " [ 1.60188068e+00  6.17016790e-01  3.25352008e-01 -5.38469779e-01]\n",
      " [-5.35929913e-01  1.15960098e-01 -1.17654866e+00  5.57980906e-01]\n",
      " [ 1.49251711e-01 -3.10365170e-01  4.49458791e-01 -4.23433954e-01]\n",
      " [-5.93473067e-02 -1.46819606e+00  8.99268222e-01  9.92397070e-01]\n",
      " [ 1.36859466e+00 -9.86431967e-01 -1.25784194e+00  1.58849855e-01]\n",
      " [ 7.42734870e-01 -5.36245021e-01 -4.75587875e-01 -1.62557879e+00]\n",
      " [-1.59709330e+00  4.85474605e-01  3.03321120e-01  4.05512003e-02]\n",
      " [ 2.48434347e-01 -2.69867837e+00 -3.18252116e-01 -9.14446205e-01]\n",
      " [-3.36262159e-01  7.16883138e-01  3.89267205e-01  2.77988343e-01]\n",
      " [ 5.01259544e-01 -1.01092659e+00  2.10575112e-01 -9.27475497e-01]\n",
      " [ 7.68990420e-01  7.01170400e-01  3.27097629e-01 -1.38346342e+00]\n",
      " [-5.17297047e-01  2.16876401e-01  1.70278986e-01 -3.41256263e-01]\n",
      " [-1.19837611e+00  8.92260136e-01 -3.75138984e-01  1.12482121e+00]\n",
      " [-1.54622486e-01 -3.00114010e-01 -2.94058500e-01  1.13617034e+00]\n",
      " [-1.67095037e+00  4.44002070e-01  2.32799642e+00  2.24561430e-01]\n",
      " [-1.59958897e-01  1.13632021e+00  7.00202208e-01 -1.48285642e-01]\n",
      " [ 1.20905898e+00  1.36938024e+00  2.99852062e-01 -8.28280941e-01]\n",
      " [-4.55402908e-01  7.77446545e-01 -1.77804233e-01  7.72819099e-02]\n",
      " [-1.69628335e+00 -1.03097465e-01  1.44998015e-01  1.63373111e+00]\n",
      " [ 8.24218247e-01  3.60783764e-01  6.01920692e-01  1.27504136e+00]\n",
      " [ 2.26676630e-02 -4.71704862e-01  5.90134382e-01 -5.17269788e-01]\n",
      " [-2.05054682e+00  6.31090001e-04 -1.84683308e+00  1.71670132e-02]\n",
      " [-3.60050753e-01  3.29988644e-01 -4.06181291e-01 -6.76574506e-01]\n",
      " [ 5.74229047e-01 -4.34180169e-01  4.30492133e-01  1.29574924e+00]\n",
      " [ 2.15812393e-01 -2.25699218e-01 -8.08964214e-01  3.58301887e-01]\n",
      " [-1.23494534e-01  2.22907859e-01  1.17380042e+00  2.14195495e-01]\n",
      " [ 2.44595899e+00  3.09331461e-01  1.10610626e+00 -1.57333730e-01]\n",
      " [ 1.49923907e+00 -1.81272129e-01 -1.87180149e+00  8.90584410e-01]\n",
      " [ 3.38205255e-02  4.53582577e-01  3.31904577e-01 -1.54499285e+00]\n",
      " [-1.41097053e+00 -6.53730115e-01 -2.86745998e-01 -1.03496829e+00]\n",
      " [-1.16144757e+00  1.10504154e+00  1.22244690e+00  4.96035227e-01]\n",
      " [-4.90356991e-01 -1.78435659e+00 -3.36762463e-01  7.20835871e-01]\n",
      " [-5.82752787e-01  5.35593873e-02 -1.04035908e+00  1.98307176e-01]\n",
      " [ 9.80524158e-01  5.82417999e-01 -5.68405108e-01  3.10012472e-01]\n",
      " [-3.62261674e-01  2.25843413e-01  1.46587824e-01  1.67920163e+00]\n",
      " [-3.88499090e-01  6.54876397e-01 -1.26344494e-01  1.50932455e+00]\n",
      " [ 8.08797588e-01 -7.97752573e-01  5.91809525e-01  2.49698320e-01]\n",
      " [-1.40653227e+00 -7.28658497e-01  3.11386770e+00  1.25168707e+00]\n",
      " [ 1.29231560e+00  7.83530255e-01 -1.09554998e+00 -5.73157773e-02]\n",
      " [ 9.87366141e-01 -9.21876775e-01 -7.36768876e-01  3.29652657e-01]\n",
      " [-2.83870919e-01 -1.35004806e-01 -7.74021002e-01  1.15544428e-01]\n",
      " [-8.65547838e-01 -5.91715587e-01 -3.83268006e-01  1.77372234e+00]]\n"
     ]
    }
   ],
   "source": [
    "with NWBHDF5IO('ecephys_tutorial.nwb', 'r') as io:\n",
    "    read_nwbfile = io.read()\n",
    "    print(read_nwbfile.processing['ecephys']['LFP']['ElectricalSeries'].data[:])"
   ]
  },
  {
   "cell_type": "markdown",
   "metadata": {},
   "source": [
    "## Accessing data regions\n",
    "It is often preferable to read only a portion of the data. To do this, index or slice into the `data` attribute just like if you were indexing or slicing a numpy array.\n",
    "\n",
    "The following code prints elements 0:10 in the first dimension (time) and 0:3 in the second dimension (electrodes) from the LFP data we have written.\n",
    "\n",
    "Accessing data from a `DynamicTable` is similar: `read_nwbfile.units['spike_times'][0]` reads only the spike times from the 0th unit (the value at the 0th row and column named 'spike_times' of the `Units` table)."
   ]
  },
  {
   "cell_type": "code",
   "execution_count": 26,
   "metadata": {},
   "outputs": [
    {
     "name": "stdout",
     "output_type": "stream",
     "text": [
      "section of lfp:\n",
      "[[-0.87560871  1.3354692   1.23168166]\n",
      " [-0.42946929  1.29490861 -0.59525592]\n",
      " [-0.08761149  0.31113078  0.21579792]\n",
      " [ 2.11679763  0.83972055 -0.41853775]\n",
      " [-1.49248973  0.14977621 -1.13477708]\n",
      " [-0.91975977 -0.79792814  0.25439723]\n",
      " [-1.54234817 -0.00927933 -0.79139421]\n",
      " [-0.37426499 -1.42596425  0.73252535]\n",
      " [ 1.60188068  0.61701679  0.32535201]\n",
      " [-0.53592991  0.1159601  -1.17654866]]\n",
      "\n",
      "spike times from 0th unit:\n",
      "[0.04585 0.1543  0.17554 0.22013 0.2359  0.2401  0.26227 0.38094 0.44284\n",
      " 0.44932 0.56373 0.57367 0.58306 0.62075 0.76323 0.76665 0.87587 0.97779\n",
      " 1.23612 1.33418]\n"
     ]
    }
   ],
   "source": [
    "with NWBHDF5IO('ecephys_tutorial.nwb', 'r') as io:\n",
    "    read_nwbfile = io.read()\n",
    "\n",
    "    print('section of lfp:')\n",
    "    print(read_nwbfile.processing['ecephys']['LFP']['ElectricalSeries'].data[:10,:3])\n",
    "    print('')\n",
    "    print('spike times from 0th unit:')\n",
    "    print(read_nwbfile.units['spike_times'][0])"
   ]
  },
  {
   "cell_type": "markdown",
   "metadata": {},
   "source": [
    "# Learn more!\n",
    "\n",
    "## Python tutorials\n",
    "### See our tutorials for more details about your data type:\n",
    "* [Extracellular electrophysiology](https://pynwb.readthedocs.io/en/stable/tutorials/domain/ecephys.html#sphx-glr-tutorials-domain-ecephys-py)\n",
    "* [Calcium imaging](https://pynwb.readthedocs.io/en/stable/tutorials/domain/ophys.html#sphx-glr-tutorials-domain-ophys-py)\n",
    "* [Intracellular electrophysiology](https://pynwb.readthedocs.io/en/stable/tutorials/domain/icephys.html#sphx-glr-tutorials-domain-icephys-py)\n",
    "\n",
    "### Check out other tutorials that teach advanced NWB topics:\n",
    "* [Iterative data write](https://pynwb.readthedocs.io/en/stable/tutorials/general/iterative_write.html#sphx-glr-tutorials-general-iterative-write-py)\n",
    "* [Extensions](https://pynwb.readthedocs.io/en/stable/tutorials/general/extensions.html#sphx-glr-tutorials-general-extensions-py)\n",
    "* [Advanced HDF5 I/O](https://pynwb.readthedocs.io/en/stable/tutorials/general/advanced_hdf5_io.html#sphx-glr-tutorials-general-advanced-hdf5-io-py)\n",
    "\n",
    "\n",
    "## MATLAB tutorials\n",
    "* [Extracellular electrophysiology](https://neurodatawithoutborders.github.io/matnwb/tutorials/html/ecephys.html)\n",
    "* [Calcium imaging](https://neurodatawithoutborders.github.io/matnwb/tutorials/html/ophys.html)\n",
    "* [Intracellular electrophysiology](https://neurodatawithoutborders.github.io/matnwb/tutorials/html/icephys.html)\n",
    "\n",
    "## [The NWB Youtube Channel](https://www.youtube.com/channel/UCfD_mU-EFz135a9TpNFJP5A)\n"
   ]
  },
  {
   "cell_type": "code",
   "execution_count": null,
   "metadata": {},
   "outputs": [],
   "source": []
  }
 ],
 "metadata": {
  "kernelspec": {
   "display_name": "Python 3 (ipykernel)",
   "language": "python",
   "name": "python3"
  },
  "language_info": {
   "codemirror_mode": {
    "name": "ipython",
    "version": 3
   },
   "file_extension": ".py",
   "mimetype": "text/x-python",
   "name": "python",
   "nbconvert_exporter": "python",
   "pygments_lexer": "ipython3",
   "version": "3.9.6"
  }
 },
 "nbformat": 4,
 "nbformat_minor": 4
}
